{
 "cells": [
  {
   "cell_type": "markdown",
   "metadata": {},
   "source": [
    "# Relax Data Science Challenge"
   ]
  },
  {
   "cell_type": "markdown",
   "metadata": {},
   "source": [
    "## Overview of Data and Goals"
   ]
  },
  {
   "cell_type": "markdown",
   "metadata": {},
   "source": [
    "In this scenario, I will be looking into two data sets, takehome_users and takehome_users_engagement. The takehome_users data includes these variables:\n",
    "* **name**: the user's name\n",
    "* **object_id**: the user's id\n",
    "* **email**: email address\n",
    "* **creation_source**: how their account was created. This takes on one of 5 values:\n",
    "     - **PERSONAL_PROJECTS**: invited to join another user's personal workspace\n",
    "     - **GUEST_INVITE**: invited to an organization as a guest (limited permissions)\n",
    "     - **ORG_INVITE**: invited to an organization (as a full member)\n",
    "     - **SIGNUP**: signed up via the website\n",
    "     - **SIGNUP_GOOGLE_AUTH**: signed up using Google Authentication (using a Google email account for their login id)\n",
    "* **creation_time**: when they created their account\n",
    "* **last_session_creation_time**: unix timestamp of last login\n",
    "* **opted_in_to_mailing_list**: whether they have opted into receiving marketing emails\n",
    "* **enabled_for_marketing_drip**: whether they are on the regular marketing email drip\n",
    "* **org_id**: the organization (group of users) they belong to\n",
    "* **invited_by_user_id**: which user invited them to join (if applicable).\n",
    "\n",
    "While the takehome_users_engagement has data indicating when users log in. There is a row for each day that the user logs in. \n",
    "\n",
    "The company has deemed an adopted user, a user that has logged in 3 separate days in a 7 day window. I want to identify which features of the data are more influential in predicting user adoption.\n"
   ]
  },
  {
   "cell_type": "code",
   "execution_count": 1,
   "metadata": {},
   "outputs": [],
   "source": [
    "import pandas as pd\n",
    "import numpy as np\n",
    "import matplotlib.pyplot as plt\n",
    "import warnings\n",
    "warnings.filterwarnings('ignore')"
   ]
  },
  {
   "cell_type": "code",
   "execution_count": 4,
   "metadata": {},
   "outputs": [],
   "source": [
    "users = pd.read_csv('takehome_users.csv', engine = 'python')\n",
    "users_engagement = pd.read_csv('takehome_user_engagement.csv', engine = 'python')"
   ]
  },
  {
   "cell_type": "code",
   "execution_count": 5,
   "metadata": {},
   "outputs": [
    {
     "data": {
      "text/html": [
       "<div>\n",
       "<style scoped>\n",
       "    .dataframe tbody tr th:only-of-type {\n",
       "        vertical-align: middle;\n",
       "    }\n",
       "\n",
       "    .dataframe tbody tr th {\n",
       "        vertical-align: top;\n",
       "    }\n",
       "\n",
       "    .dataframe thead th {\n",
       "        text-align: right;\n",
       "    }\n",
       "</style>\n",
       "<table border=\"1\" class=\"dataframe\">\n",
       "  <thead>\n",
       "    <tr style=\"text-align: right;\">\n",
       "      <th></th>\n",
       "      <th>object_id</th>\n",
       "      <th>creation_time</th>\n",
       "      <th>name</th>\n",
       "      <th>email</th>\n",
       "      <th>creation_source</th>\n",
       "      <th>last_session_creation_time</th>\n",
       "      <th>opted_in_to_mailing_list</th>\n",
       "      <th>enabled_for_marketing_drip</th>\n",
       "      <th>org_id</th>\n",
       "      <th>invited_by_user_id</th>\n",
       "    </tr>\n",
       "  </thead>\n",
       "  <tbody>\n",
       "    <tr>\n",
       "      <th>0</th>\n",
       "      <td>1</td>\n",
       "      <td>2014-04-22 03:53:30</td>\n",
       "      <td>Clausen August</td>\n",
       "      <td>AugustCClausen@yahoo.com</td>\n",
       "      <td>GUEST_INVITE</td>\n",
       "      <td>1.398139e+09</td>\n",
       "      <td>1</td>\n",
       "      <td>0</td>\n",
       "      <td>11</td>\n",
       "      <td>10803.0</td>\n",
       "    </tr>\n",
       "    <tr>\n",
       "      <th>1</th>\n",
       "      <td>2</td>\n",
       "      <td>2013-11-15 03:45:04</td>\n",
       "      <td>Poole Matthew</td>\n",
       "      <td>MatthewPoole@gustr.com</td>\n",
       "      <td>ORG_INVITE</td>\n",
       "      <td>1.396238e+09</td>\n",
       "      <td>0</td>\n",
       "      <td>0</td>\n",
       "      <td>1</td>\n",
       "      <td>316.0</td>\n",
       "    </tr>\n",
       "    <tr>\n",
       "      <th>2</th>\n",
       "      <td>3</td>\n",
       "      <td>2013-03-19 23:14:52</td>\n",
       "      <td>Bottrill Mitchell</td>\n",
       "      <td>MitchellBottrill@gustr.com</td>\n",
       "      <td>ORG_INVITE</td>\n",
       "      <td>1.363735e+09</td>\n",
       "      <td>0</td>\n",
       "      <td>0</td>\n",
       "      <td>94</td>\n",
       "      <td>1525.0</td>\n",
       "    </tr>\n",
       "    <tr>\n",
       "      <th>3</th>\n",
       "      <td>4</td>\n",
       "      <td>2013-05-21 08:09:28</td>\n",
       "      <td>Clausen Nicklas</td>\n",
       "      <td>NicklasSClausen@yahoo.com</td>\n",
       "      <td>GUEST_INVITE</td>\n",
       "      <td>1.369210e+09</td>\n",
       "      <td>0</td>\n",
       "      <td>0</td>\n",
       "      <td>1</td>\n",
       "      <td>5151.0</td>\n",
       "    </tr>\n",
       "    <tr>\n",
       "      <th>4</th>\n",
       "      <td>5</td>\n",
       "      <td>2013-01-17 10:14:20</td>\n",
       "      <td>Raw Grace</td>\n",
       "      <td>GraceRaw@yahoo.com</td>\n",
       "      <td>GUEST_INVITE</td>\n",
       "      <td>1.358850e+09</td>\n",
       "      <td>0</td>\n",
       "      <td>0</td>\n",
       "      <td>193</td>\n",
       "      <td>5240.0</td>\n",
       "    </tr>\n",
       "  </tbody>\n",
       "</table>\n",
       "</div>"
      ],
      "text/plain": [
       "   object_id        creation_time               name  \\\n",
       "0          1  2014-04-22 03:53:30     Clausen August   \n",
       "1          2  2013-11-15 03:45:04      Poole Matthew   \n",
       "2          3  2013-03-19 23:14:52  Bottrill Mitchell   \n",
       "3          4  2013-05-21 08:09:28    Clausen Nicklas   \n",
       "4          5  2013-01-17 10:14:20          Raw Grace   \n",
       "\n",
       "                        email creation_source  last_session_creation_time  \\\n",
       "0    AugustCClausen@yahoo.com    GUEST_INVITE                1.398139e+09   \n",
       "1      MatthewPoole@gustr.com      ORG_INVITE                1.396238e+09   \n",
       "2  MitchellBottrill@gustr.com      ORG_INVITE                1.363735e+09   \n",
       "3   NicklasSClausen@yahoo.com    GUEST_INVITE                1.369210e+09   \n",
       "4          GraceRaw@yahoo.com    GUEST_INVITE                1.358850e+09   \n",
       "\n",
       "   opted_in_to_mailing_list  enabled_for_marketing_drip  org_id  \\\n",
       "0                         1                           0      11   \n",
       "1                         0                           0       1   \n",
       "2                         0                           0      94   \n",
       "3                         0                           0       1   \n",
       "4                         0                           0     193   \n",
       "\n",
       "   invited_by_user_id  \n",
       "0             10803.0  \n",
       "1               316.0  \n",
       "2              1525.0  \n",
       "3              5151.0  \n",
       "4              5240.0  "
      ]
     },
     "execution_count": 5,
     "metadata": {},
     "output_type": "execute_result"
    }
   ],
   "source": [
    "users.head()"
   ]
  },
  {
   "cell_type": "code",
   "execution_count": 7,
   "metadata": {},
   "outputs": [
    {
     "name": "stdout",
     "output_type": "stream",
     "text": [
      "<class 'pandas.core.frame.DataFrame'>\n",
      "RangeIndex: 12000 entries, 0 to 11999\n",
      "Data columns (total 10 columns):\n",
      " #   Column                      Non-Null Count  Dtype  \n",
      "---  ------                      --------------  -----  \n",
      " 0   object_id                   12000 non-null  int64  \n",
      " 1   creation_time               12000 non-null  object \n",
      " 2   name                        12000 non-null  object \n",
      " 3   email                       12000 non-null  object \n",
      " 4   creation_source             12000 non-null  object \n",
      " 5   last_session_creation_time  8823 non-null   float64\n",
      " 6   opted_in_to_mailing_list    12000 non-null  int64  \n",
      " 7   enabled_for_marketing_drip  12000 non-null  int64  \n",
      " 8   org_id                      12000 non-null  int64  \n",
      " 9   invited_by_user_id          6417 non-null   float64\n",
      "dtypes: float64(2), int64(4), object(4)\n",
      "memory usage: 937.6+ KB\n"
     ]
    }
   ],
   "source": [
    "users.info()"
   ]
  },
  {
   "cell_type": "code",
   "execution_count": 8,
   "metadata": {},
   "outputs": [],
   "source": [
    "# Need to make date time objects for date time variables\n",
    "users['creation_time'] = pd.to_datetime(users['creation_time'])"
   ]
  },
  {
   "cell_type": "code",
   "execution_count": 9,
   "metadata": {},
   "outputs": [],
   "source": [
    "users['last_session_creation_time'] = pd.to_datetime(users['last_session_creation_time'], unit = 's')"
   ]
  },
  {
   "cell_type": "code",
   "execution_count": 10,
   "metadata": {},
   "outputs": [],
   "source": [
    "# Need to fill NA values, can assume that if there isnt a last_session that the initial creation is the last session\n",
    "users['last_session_creation_time'] = users['last_session_creation_time'].fillna(users['creation_time'])"
   ]
  },
  {
   "cell_type": "code",
   "execution_count": 11,
   "metadata": {},
   "outputs": [
    {
     "name": "stdout",
     "output_type": "stream",
     "text": [
      "<class 'pandas.core.frame.DataFrame'>\n",
      "RangeIndex: 12000 entries, 0 to 11999\n",
      "Data columns (total 10 columns):\n",
      " #   Column                      Non-Null Count  Dtype         \n",
      "---  ------                      --------------  -----         \n",
      " 0   object_id                   12000 non-null  int64         \n",
      " 1   creation_time               12000 non-null  datetime64[ns]\n",
      " 2   name                        12000 non-null  object        \n",
      " 3   email                       12000 non-null  object        \n",
      " 4   creation_source             12000 non-null  object        \n",
      " 5   last_session_creation_time  12000 non-null  datetime64[ns]\n",
      " 6   opted_in_to_mailing_list    12000 non-null  int64         \n",
      " 7   enabled_for_marketing_drip  12000 non-null  int64         \n",
      " 8   org_id                      12000 non-null  int64         \n",
      " 9   invited_by_user_id          6417 non-null   float64       \n",
      "dtypes: datetime64[ns](2), float64(1), int64(4), object(3)\n",
      "memory usage: 937.6+ KB\n"
     ]
    }
   ],
   "source": [
    "users.info()"
   ]
  },
  {
   "cell_type": "code",
   "execution_count": 6,
   "metadata": {},
   "outputs": [
    {
     "data": {
      "text/html": [
       "<div>\n",
       "<style scoped>\n",
       "    .dataframe tbody tr th:only-of-type {\n",
       "        vertical-align: middle;\n",
       "    }\n",
       "\n",
       "    .dataframe tbody tr th {\n",
       "        vertical-align: top;\n",
       "    }\n",
       "\n",
       "    .dataframe thead th {\n",
       "        text-align: right;\n",
       "    }\n",
       "</style>\n",
       "<table border=\"1\" class=\"dataframe\">\n",
       "  <thead>\n",
       "    <tr style=\"text-align: right;\">\n",
       "      <th></th>\n",
       "      <th>time_stamp</th>\n",
       "      <th>user_id</th>\n",
       "      <th>visited</th>\n",
       "    </tr>\n",
       "  </thead>\n",
       "  <tbody>\n",
       "    <tr>\n",
       "      <th>0</th>\n",
       "      <td>2014-04-22 03:53:30</td>\n",
       "      <td>1</td>\n",
       "      <td>1</td>\n",
       "    </tr>\n",
       "    <tr>\n",
       "      <th>1</th>\n",
       "      <td>2013-11-15 03:45:04</td>\n",
       "      <td>2</td>\n",
       "      <td>1</td>\n",
       "    </tr>\n",
       "    <tr>\n",
       "      <th>2</th>\n",
       "      <td>2013-11-29 03:45:04</td>\n",
       "      <td>2</td>\n",
       "      <td>1</td>\n",
       "    </tr>\n",
       "    <tr>\n",
       "      <th>3</th>\n",
       "      <td>2013-12-09 03:45:04</td>\n",
       "      <td>2</td>\n",
       "      <td>1</td>\n",
       "    </tr>\n",
       "    <tr>\n",
       "      <th>4</th>\n",
       "      <td>2013-12-25 03:45:04</td>\n",
       "      <td>2</td>\n",
       "      <td>1</td>\n",
       "    </tr>\n",
       "  </tbody>\n",
       "</table>\n",
       "</div>"
      ],
      "text/plain": [
       "            time_stamp  user_id  visited\n",
       "0  2014-04-22 03:53:30        1        1\n",
       "1  2013-11-15 03:45:04        2        1\n",
       "2  2013-11-29 03:45:04        2        1\n",
       "3  2013-12-09 03:45:04        2        1\n",
       "4  2013-12-25 03:45:04        2        1"
      ]
     },
     "execution_count": 6,
     "metadata": {},
     "output_type": "execute_result"
    }
   ],
   "source": [
    "users_engagement.head()"
   ]
  },
  {
   "cell_type": "code",
   "execution_count": 12,
   "metadata": {},
   "outputs": [
    {
     "name": "stdout",
     "output_type": "stream",
     "text": [
      "<class 'pandas.core.frame.DataFrame'>\n",
      "RangeIndex: 207917 entries, 0 to 207916\n",
      "Data columns (total 3 columns):\n",
      " #   Column      Non-Null Count   Dtype \n",
      "---  ------      --------------   ----- \n",
      " 0   time_stamp  207917 non-null  object\n",
      " 1   user_id     207917 non-null  int64 \n",
      " 2   visited     207917 non-null  int64 \n",
      "dtypes: int64(2), object(1)\n",
      "memory usage: 4.8+ MB\n"
     ]
    }
   ],
   "source": [
    "users_engagement.info()"
   ]
  },
  {
   "cell_type": "code",
   "execution_count": 13,
   "metadata": {},
   "outputs": [],
   "source": [
    "# need to make time stamp info a date time object\n",
    "users_engagement['time_stamp'] = pd.to_datetime(users_engagement['time_stamp'])"
   ]
  },
  {
   "cell_type": "code",
   "execution_count": 17,
   "metadata": {},
   "outputs": [],
   "source": [
    "# since all of the visited column is a 1 it is unnecessary for analysis\n",
    "users_engagement = users_engagement.drop('visited', axis = 1)"
   ]
  },
  {
   "cell_type": "code",
   "execution_count": 18,
   "metadata": {},
   "outputs": [
    {
     "name": "stdout",
     "output_type": "stream",
     "text": [
      "<class 'pandas.core.frame.DataFrame'>\n",
      "RangeIndex: 207917 entries, 0 to 207916\n",
      "Data columns (total 2 columns):\n",
      " #   Column      Non-Null Count   Dtype         \n",
      "---  ------      --------------   -----         \n",
      " 0   time_stamp  207917 non-null  datetime64[ns]\n",
      " 1   user_id     207917 non-null  int64         \n",
      "dtypes: datetime64[ns](1), int64(1)\n",
      "memory usage: 3.2 MB\n"
     ]
    }
   ],
   "source": [
    "users_engagement.info()"
   ]
  },
  {
   "cell_type": "markdown",
   "metadata": {},
   "source": [
    "### Identifying which users are considered adopted users"
   ]
  },
  {
   "cell_type": "code",
   "execution_count": 19,
   "metadata": {},
   "outputs": [],
   "source": [
    "adopted_users = np.zeros(len(users)).astype('bool')\n",
    "seven_days = np.timedelta64(7, 'D')"
   ]
  },
  {
   "cell_type": "code",
   "execution_count": 24,
   "metadata": {},
   "outputs": [],
   "source": [
    "for i in users.object_id:\n",
    "    login_timestamps = np.sort(users_engagement.time_stamp[users_engagement.user_id == i].values)\n",
    "    if len(login_timestamps) >= 3:\n",
    "        adopted_users[i - 1] = ((login_timestamps[2:] - login_timestamps[0:-2]) <= seven_days).any()"
   ]
  },
  {
   "cell_type": "code",
   "execution_count": 25,
   "metadata": {},
   "outputs": [],
   "source": [
    "adopted_users = pd.Series(adopted_users, name = 'adopted_users')"
   ]
  },
  {
   "cell_type": "code",
   "execution_count": 26,
   "metadata": {},
   "outputs": [
    {
     "name": "stdout",
     "output_type": "stream",
     "text": [
      "0        False\n",
      "1         True\n",
      "2        False\n",
      "3        False\n",
      "4        False\n",
      "         ...  \n",
      "11995    False\n",
      "11996    False\n",
      "11997    False\n",
      "11998    False\n",
      "11999    False\n",
      "Name: adopted_users, Length: 12000, dtype: bool\n"
     ]
    }
   ],
   "source": [
    "print(adopted_users)"
   ]
  },
  {
   "cell_type": "code",
   "execution_count": 29,
   "metadata": {},
   "outputs": [
    {
     "data": {
      "text/html": [
       "<div>\n",
       "<style scoped>\n",
       "    .dataframe tbody tr th:only-of-type {\n",
       "        vertical-align: middle;\n",
       "    }\n",
       "\n",
       "    .dataframe tbody tr th {\n",
       "        vertical-align: top;\n",
       "    }\n",
       "\n",
       "    .dataframe thead th {\n",
       "        text-align: right;\n",
       "    }\n",
       "</style>\n",
       "<table border=\"1\" class=\"dataframe\">\n",
       "  <thead>\n",
       "    <tr style=\"text-align: right;\">\n",
       "      <th></th>\n",
       "      <th>total_count</th>\n",
       "      <th>adopted_count</th>\n",
       "      <th>adopted_rate</th>\n",
       "    </tr>\n",
       "    <tr>\n",
       "      <th>email_domain</th>\n",
       "      <th></th>\n",
       "      <th></th>\n",
       "      <th></th>\n",
       "    </tr>\n",
       "  </thead>\n",
       "  <tbody>\n",
       "    <tr>\n",
       "      <th>hotmail.com</th>\n",
       "      <td>1165.0</td>\n",
       "      <td>205.0</td>\n",
       "      <td>0.175966</td>\n",
       "    </tr>\n",
       "    <tr>\n",
       "      <th>gmail.com</th>\n",
       "      <td>3562.0</td>\n",
       "      <td>557.0</td>\n",
       "      <td>0.156373</td>\n",
       "    </tr>\n",
       "    <tr>\n",
       "      <th>jourrapide.com</th>\n",
       "      <td>1259.0</td>\n",
       "      <td>170.0</td>\n",
       "      <td>0.135028</td>\n",
       "    </tr>\n",
       "    <tr>\n",
       "      <th>gustr.com</th>\n",
       "      <td>1179.0</td>\n",
       "      <td>150.0</td>\n",
       "      <td>0.127226</td>\n",
       "    </tr>\n",
       "    <tr>\n",
       "      <th>cuvox.de</th>\n",
       "      <td>1202.0</td>\n",
       "      <td>144.0</td>\n",
       "      <td>0.119800</td>\n",
       "    </tr>\n",
       "    <tr>\n",
       "      <th>yahoo.com</th>\n",
       "      <td>2447.0</td>\n",
       "      <td>267.0</td>\n",
       "      <td>0.109113</td>\n",
       "    </tr>\n",
       "    <tr>\n",
       "      <th>others</th>\n",
       "      <td>1186.0</td>\n",
       "      <td>163.0</td>\n",
       "      <td>0.137437</td>\n",
       "    </tr>\n",
       "  </tbody>\n",
       "</table>\n",
       "</div>"
      ],
      "text/plain": [
       "                total_count  adopted_count  adopted_rate\n",
       "email_domain                                            \n",
       "hotmail.com          1165.0          205.0      0.175966\n",
       "gmail.com            3562.0          557.0      0.156373\n",
       "jourrapide.com       1259.0          170.0      0.135028\n",
       "gustr.com            1179.0          150.0      0.127226\n",
       "cuvox.de             1202.0          144.0      0.119800\n",
       "yahoo.com            2447.0          267.0      0.109113\n",
       "others               1186.0          163.0      0.137437"
      ]
     },
     "execution_count": 29,
     "metadata": {},
     "output_type": "execute_result"
    }
   ],
   "source": [
    "email_domain = users.email.map(lambda s: s[s.index(\"@\") + 1 :])\n",
    "email_domain.name = \"email_domain\"\n",
    "\n",
    "email_domain_adopt = pd.concat([email_domain, adopted_users], axis=1).pivot_table(index=\"email_domain\", values=\"adopted_users\", aggfunc=[len, np.sum, lambda x: np.sum(x) / len(x)])\n",
    "email_domain_adopt.columns = [\"total_count\", \"adopted_count\", \"adopted_rate\"]\n",
    "email_domain_adopt = email_domain_adopt.sort_values([\"adopted_rate\", \"adopted_count\", \"total_count\"], ascending=False)\n",
    "\n",
    "email_domain_adopt_rest = email_domain_adopt[email_domain_adopt.total_count <= 10]\n",
    "email_domain_adopt = email_domain_adopt[email_domain_adopt.total_count > 10]\n",
    "\n",
    "email_domain_adopt_others = np.sum(email_domain_adopt_rest)\n",
    "email_domain_adopt_others.adopted_rate = email_domain_adopt_others.adopted_count / email_domain_adopt_others.total_count\n",
    "email_domain_adopt_others.name = \"others\"\n",
    "email_domain_adopt = email_domain_adopt.append(email_domain_adopt_others)\n",
    "email_domain_adopt"
   ]
  },
  {
   "cell_type": "code",
   "execution_count": 30,
   "metadata": {},
   "outputs": [
    {
     "data": {
      "text/plain": [
       "<matplotlib.legend.Legend at 0x7fe97d906790>"
      ]
     },
     "execution_count": 30,
     "metadata": {},
     "output_type": "execute_result"
    },
    {
     "data": {
      "image/png": "[encoded data removed]",
      "text/plain": [
       "<Figure size 432x288 with 2 Axes>"
      ]
     },
     "metadata": {
      "needs_background": "light"
     },
     "output_type": "display_data"
    }
   ],
   "source": [
    "plt.figure()\n",
    "\n",
    "ax1 = plt.gca()\n",
    "ax2 = ax1.twinx()\n",
    "\n",
    "email_domain_adopt.total_count.plot.bar(label = 'total count', position = 0, width = 0.25, ax = ax1)\n",
    "(email_domain_adopt.adopted_rate*100).plot.bar(label = 'adoption percentage', color = 'c', position = 1, width = 0.25, ax = ax2)\n",
    "ax1.legend(loc = 'upper right')\n",
    "ax2.legend(loc = 'upper left')"
   ]
  },
  {
   "cell_type": "markdown",
   "metadata": {},
   "source": [
    "We can see from the above graphic that there is a difference seen in adoption rate between email domains"
   ]
  },
  {
   "cell_type": "code",
   "execution_count": 31,
   "metadata": {},
   "outputs": [
    {
     "data": {
      "text/html": [
       "<div>\n",
       "<style scoped>\n",
       "    .dataframe tbody tr th:only-of-type {\n",
       "        vertical-align: middle;\n",
       "    }\n",
       "\n",
       "    .dataframe tbody tr th {\n",
       "        vertical-align: top;\n",
       "    }\n",
       "\n",
       "    .dataframe thead th {\n",
       "        text-align: right;\n",
       "    }\n",
       "</style>\n",
       "<table border=\"1\" class=\"dataframe\">\n",
       "  <thead>\n",
       "    <tr style=\"text-align: right;\">\n",
       "      <th></th>\n",
       "      <th>nonadopted_count</th>\n",
       "      <th>adopted_count</th>\n",
       "    </tr>\n",
       "    <tr>\n",
       "      <th>email_domain</th>\n",
       "      <th></th>\n",
       "      <th></th>\n",
       "    </tr>\n",
       "  </thead>\n",
       "  <tbody>\n",
       "    <tr>\n",
       "      <th>hotmail.com</th>\n",
       "      <td>960.0</td>\n",
       "      <td>205.0</td>\n",
       "    </tr>\n",
       "    <tr>\n",
       "      <th>gmail.com</th>\n",
       "      <td>3005.0</td>\n",
       "      <td>557.0</td>\n",
       "    </tr>\n",
       "    <tr>\n",
       "      <th>jourrapide.com</th>\n",
       "      <td>1089.0</td>\n",
       "      <td>170.0</td>\n",
       "    </tr>\n",
       "    <tr>\n",
       "      <th>gustr.com</th>\n",
       "      <td>1029.0</td>\n",
       "      <td>150.0</td>\n",
       "    </tr>\n",
       "    <tr>\n",
       "      <th>cuvox.de</th>\n",
       "      <td>1058.0</td>\n",
       "      <td>144.0</td>\n",
       "    </tr>\n",
       "    <tr>\n",
       "      <th>yahoo.com</th>\n",
       "      <td>2180.0</td>\n",
       "      <td>267.0</td>\n",
       "    </tr>\n",
       "    <tr>\n",
       "      <th>others</th>\n",
       "      <td>1023.0</td>\n",
       "      <td>163.0</td>\n",
       "    </tr>\n",
       "  </tbody>\n",
       "</table>\n",
       "</div>"
      ],
      "text/plain": [
       "                nonadopted_count  adopted_count\n",
       "email_domain                                   \n",
       "hotmail.com                960.0          205.0\n",
       "gmail.com                 3005.0          557.0\n",
       "jourrapide.com            1089.0          170.0\n",
       "gustr.com                 1029.0          150.0\n",
       "cuvox.de                  1058.0          144.0\n",
       "yahoo.com                 2180.0          267.0\n",
       "others                    1023.0          163.0"
      ]
     },
     "execution_count": 31,
     "metadata": {},
     "output_type": "execute_result"
    }
   ],
   "source": [
    "adopt_table = pd.concat([(email_domain_adopt.total_count - email_domain_adopt.adopted_count), email_domain_adopt.adopted_count], axis=1)\n",
    "adopt_table.columns = [\"nonadopted_count\", \"adopted_count\"]\n",
    "adopt_table"
   ]
  },
  {
   "cell_type": "markdown",
   "metadata": {},
   "source": [
    "While hotmail has the lowest total count of email domains, hotmail has the highest percentage of adoption as seen above"
   ]
  },
  {
   "cell_type": "markdown",
   "metadata": {},
   "source": [
    "For this chi^2 test, the null Hypothesesis is that the email domain and adoption occurrence are independant. The alternate hypothesis is that the email domain and adoption occurrence are not independant"
   ]
  },
  {
   "cell_type": "code",
   "execution_count": 32,
   "metadata": {},
   "outputs": [
    {
     "name": "stdout",
     "output_type": "stream",
     "text": [
      "P-value of chi2 test: 2.983360416428637e-08\n"
     ]
    }
   ],
   "source": [
    "# want to do chi2 tests to look at independance\n",
    "from scipy.stats import chi2_contingency\n",
    "_, p, _, _ = chi2_contingency(adopt_table)\n",
    "print('P-value of chi2 test: {}'.format(p))"
   ]
  },
  {
   "cell_type": "markdown",
   "metadata": {},
   "source": [
    "With a P-value of 2.98 e-08, we can safely reject the null hypothesis and conclude that email domain and adoption occurrence are not independant"
   ]
  },
  {
   "cell_type": "code",
   "execution_count": 39,
   "metadata": {},
   "outputs": [
    {
     "data": {
      "text/plain": [
       "0          yahoo.com\n",
       "1          gustr.com\n",
       "2          gustr.com\n",
       "3          yahoo.com\n",
       "4          yahoo.com\n",
       "            ...     \n",
       "11995      gustr.com\n",
       "11996      gmail.com\n",
       "11997       cuvox.de\n",
       "11998         others\n",
       "11999    hotmail.com\n",
       "Name: email_domain, Length: 12000, dtype: object"
      ]
     },
     "execution_count": 39,
     "metadata": {},
     "output_type": "execute_result"
    }
   ],
   "source": [
    "from copy import deepcopy\n",
    "\n",
    "email_domain_feature = deepcopy(email_domain)\n",
    "for i, x in enumerate(email_domain_feature):\n",
    "    if x not in email_domain_adopt.index:\n",
    "        email_domain_feature[i] = \"others\"\n",
    "        \n",
    "email_domain_feature"
   ]
  },
  {
   "cell_type": "markdown",
   "metadata": {},
   "source": [
    "### Creation Source Analysis"
   ]
  },
  {
   "cell_type": "code",
   "execution_count": 35,
   "metadata": {},
   "outputs": [
    {
     "data": {
      "text/html": [
       "<div>\n",
       "<style scoped>\n",
       "    .dataframe tbody tr th:only-of-type {\n",
       "        vertical-align: middle;\n",
       "    }\n",
       "\n",
       "    .dataframe tbody tr th {\n",
       "        vertical-align: top;\n",
       "    }\n",
       "\n",
       "    .dataframe thead th {\n",
       "        text-align: right;\n",
       "    }\n",
       "</style>\n",
       "<table border=\"1\" class=\"dataframe\">\n",
       "  <thead>\n",
       "    <tr style=\"text-align: right;\">\n",
       "      <th></th>\n",
       "      <th>total_count</th>\n",
       "      <th>adopted_count</th>\n",
       "      <th>adopted_rate</th>\n",
       "    </tr>\n",
       "    <tr>\n",
       "      <th>creation_source</th>\n",
       "      <th></th>\n",
       "      <th></th>\n",
       "      <th></th>\n",
       "    </tr>\n",
       "  </thead>\n",
       "  <tbody>\n",
       "    <tr>\n",
       "      <th>SIGNUP_GOOGLE_AUTH</th>\n",
       "      <td>1385</td>\n",
       "      <td>239</td>\n",
       "      <td>0.172563</td>\n",
       "    </tr>\n",
       "    <tr>\n",
       "      <th>GUEST_INVITE</th>\n",
       "      <td>2163</td>\n",
       "      <td>369</td>\n",
       "      <td>0.170596</td>\n",
       "    </tr>\n",
       "    <tr>\n",
       "      <th>SIGNUP</th>\n",
       "      <td>2087</td>\n",
       "      <td>302</td>\n",
       "      <td>0.144705</td>\n",
       "    </tr>\n",
       "    <tr>\n",
       "      <th>ORG_INVITE</th>\n",
       "      <td>4254</td>\n",
       "      <td>574</td>\n",
       "      <td>0.134932</td>\n",
       "    </tr>\n",
       "    <tr>\n",
       "      <th>PERSONAL_PROJECTS</th>\n",
       "      <td>2111</td>\n",
       "      <td>172</td>\n",
       "      <td>0.081478</td>\n",
       "    </tr>\n",
       "  </tbody>\n",
       "</table>\n",
       "</div>"
      ],
      "text/plain": [
       "                    total_count  adopted_count  adopted_rate\n",
       "creation_source                                             \n",
       "SIGNUP_GOOGLE_AUTH         1385            239      0.172563\n",
       "GUEST_INVITE               2163            369      0.170596\n",
       "SIGNUP                     2087            302      0.144705\n",
       "ORG_INVITE                 4254            574      0.134932\n",
       "PERSONAL_PROJECTS          2111            172      0.081478"
      ]
     },
     "execution_count": 35,
     "metadata": {},
     "output_type": "execute_result"
    }
   ],
   "source": [
    "creation_adopt = pd.concat([users['creation_source'], adopted_users], axis = 1).pivot_table(index = 'creation_source',values = 'adopted_users', aggfunc=[len, np.sum, lambda x: np.sum(x) / len(x)])\n",
    "creation_adopt.columns = ['total_count','adopted_count','adopted_rate']\n",
    "creation_adopt = creation_adopt.sort_values(['adopted_rate','adopted_count','total_count'], ascending = False)\n",
    "\n",
    "creation_adopt"
   ]
  },
  {
   "cell_type": "code",
   "execution_count": 36,
   "metadata": {},
   "outputs": [
    {
     "data": {
      "text/plain": [
       "<matplotlib.legend.Legend at 0x7fe97b5031c0>"
      ]
     },
     "execution_count": 36,
     "metadata": {},
     "output_type": "execute_result"
    },
    {
     "data": {
      "image/png": "[encoded data removed]",
      "text/plain": [
       "<Figure size 432x288 with 2 Axes>"
      ]
     },
     "metadata": {
      "needs_background": "light"
     },
     "output_type": "display_data"
    }
   ],
   "source": [
    "plt.figure()\n",
    "\n",
    "ax1 = plt.gca()\n",
    "ax2 = ax1.twinx()\n",
    "\n",
    "creation_adopt.total_count.plot.bar(label = 'total count', position = 0, width = 0.25, ax = ax1)\n",
    "(creation_adopt.adopted_rate*100).plot.bar(label = 'adoption percentage', color = 'c', position = 1, width = 0.25, ax = ax2)\n",
    "ax1.legend(loc = 'upper right')\n",
    "ax2.legend(loc = 'upper left')"
   ]
  },
  {
   "cell_type": "markdown",
   "metadata": {},
   "source": [
    "From the above plot we can see that the percentage of adoption is highest for Signup_Google_Auth thought it has the lowest count, a similar situtation as seen above with email domains"
   ]
  },
  {
   "cell_type": "code",
   "execution_count": 37,
   "metadata": {},
   "outputs": [
    {
     "data": {
      "text/html": [
       "<div>\n",
       "<style scoped>\n",
       "    .dataframe tbody tr th:only-of-type {\n",
       "        vertical-align: middle;\n",
       "    }\n",
       "\n",
       "    .dataframe tbody tr th {\n",
       "        vertical-align: top;\n",
       "    }\n",
       "\n",
       "    .dataframe thead th {\n",
       "        text-align: right;\n",
       "    }\n",
       "</style>\n",
       "<table border=\"1\" class=\"dataframe\">\n",
       "  <thead>\n",
       "    <tr style=\"text-align: right;\">\n",
       "      <th></th>\n",
       "      <th>nonadopted_count</th>\n",
       "      <th>adopted_count</th>\n",
       "    </tr>\n",
       "    <tr>\n",
       "      <th>creation_source</th>\n",
       "      <th></th>\n",
       "      <th></th>\n",
       "    </tr>\n",
       "  </thead>\n",
       "  <tbody>\n",
       "    <tr>\n",
       "      <th>SIGNUP_GOOGLE_AUTH</th>\n",
       "      <td>1146</td>\n",
       "      <td>239</td>\n",
       "    </tr>\n",
       "    <tr>\n",
       "      <th>GUEST_INVITE</th>\n",
       "      <td>1794</td>\n",
       "      <td>369</td>\n",
       "    </tr>\n",
       "    <tr>\n",
       "      <th>SIGNUP</th>\n",
       "      <td>1785</td>\n",
       "      <td>302</td>\n",
       "    </tr>\n",
       "    <tr>\n",
       "      <th>ORG_INVITE</th>\n",
       "      <td>3680</td>\n",
       "      <td>574</td>\n",
       "    </tr>\n",
       "    <tr>\n",
       "      <th>PERSONAL_PROJECTS</th>\n",
       "      <td>1939</td>\n",
       "      <td>172</td>\n",
       "    </tr>\n",
       "  </tbody>\n",
       "</table>\n",
       "</div>"
      ],
      "text/plain": [
       "                    nonadopted_count  adopted_count\n",
       "creation_source                                    \n",
       "SIGNUP_GOOGLE_AUTH              1146            239\n",
       "GUEST_INVITE                    1794            369\n",
       "SIGNUP                          1785            302\n",
       "ORG_INVITE                      3680            574\n",
       "PERSONAL_PROJECTS               1939            172"
      ]
     },
     "execution_count": 37,
     "metadata": {},
     "output_type": "execute_result"
    }
   ],
   "source": [
    "creation_adopt_table = pd.concat([(creation_adopt.total_count - creation_adopt.adopted_count), creation_adopt.adopted_count], axis=1)\n",
    "creation_adopt_table.columns = [\"nonadopted_count\", \"adopted_count\"]\n",
    "creation_adopt_table"
   ]
  },
  {
   "cell_type": "markdown",
   "metadata": {},
   "source": [
    "Again I would like to run a chi square test to determine whether creation_source is independant of user adoption.\n",
    "\n",
    "The null hypothesis is that creation source is independant of user adoption\n",
    "The alternate hypothesis is that the creation source is not independant of user adoption"
   ]
  },
  {
   "cell_type": "code",
   "execution_count": 38,
   "metadata": {},
   "outputs": [
    {
     "name": "stdout",
     "output_type": "stream",
     "text": [
      "P-value of chi2 test: 7.884346873316259e-19\n"
     ]
    }
   ],
   "source": [
    "# want to do chi2 tests to look at independance\n",
    "_, p, _, _ = chi2_contingency(creation_adopt_table)\n",
    "print('P-value of chi2 test: {}'.format(p))"
   ]
  },
  {
   "cell_type": "markdown",
   "metadata": {},
   "source": [
    "With a p value of 7.88 e-19, it is safe to reject the null hypothesis and conclude that creation source and user adoption are not independant"
   ]
  },
  {
   "cell_type": "code",
   "execution_count": 41,
   "metadata": {},
   "outputs": [
    {
     "data": {
      "text/plain": [
       "0              GUEST_INVITE\n",
       "1                ORG_INVITE\n",
       "2                ORG_INVITE\n",
       "3              GUEST_INVITE\n",
       "4              GUEST_INVITE\n",
       "                ...        \n",
       "11995            ORG_INVITE\n",
       "11996    SIGNUP_GOOGLE_AUTH\n",
       "11997          GUEST_INVITE\n",
       "11998     PERSONAL_PROJECTS\n",
       "11999                SIGNUP\n",
       "Name: creation_source, Length: 12000, dtype: object"
      ]
     },
     "execution_count": 41,
     "metadata": {},
     "output_type": "execute_result"
    }
   ],
   "source": [
    "creation_feature = deepcopy(users['creation_source'])\n",
    "creation_feature"
   ]
  },
  {
   "cell_type": "markdown",
   "metadata": {},
   "source": [
    "### Last Login Session"
   ]
  },
  {
   "cell_type": "code",
   "execution_count": 43,
   "metadata": {},
   "outputs": [
    {
     "data": {
      "text/html": [
       "<div>\n",
       "<style scoped>\n",
       "    .dataframe tbody tr th:only-of-type {\n",
       "        vertical-align: middle;\n",
       "    }\n",
       "\n",
       "    .dataframe tbody tr th {\n",
       "        vertical-align: top;\n",
       "    }\n",
       "\n",
       "    .dataframe thead th {\n",
       "        text-align: right;\n",
       "    }\n",
       "</style>\n",
       "<table border=\"1\" class=\"dataframe\">\n",
       "  <thead>\n",
       "    <tr style=\"text-align: right;\">\n",
       "      <th></th>\n",
       "      <th>last_login_since_first</th>\n",
       "    </tr>\n",
       "    <tr>\n",
       "      <th>adopted_users</th>\n",
       "      <th></th>\n",
       "    </tr>\n",
       "  </thead>\n",
       "  <tbody>\n",
       "    <tr>\n",
       "      <th>False</th>\n",
       "      <td>3 days 16:27:17.122969837</td>\n",
       "    </tr>\n",
       "    <tr>\n",
       "      <th>True</th>\n",
       "      <td>292 days 12:11:18.260869564</td>\n",
       "    </tr>\n",
       "  </tbody>\n",
       "</table>\n",
       "</div>"
      ],
      "text/plain": [
       "                   last_login_since_first\n",
       "adopted_users                            \n",
       "False           3 days 16:27:17.122969837\n",
       "True          292 days 12:11:18.260869564"
      ]
     },
     "execution_count": 43,
     "metadata": {},
     "output_type": "execute_result"
    }
   ],
   "source": [
    "last_login_since_creation = (users.last_session_creation_time - users.creation_time)\n",
    "last_login_since_creation.name = \"last_login_since_first\"\n",
    "last_login_since_creation_adopt = pd.concat([last_login_since_creation, adopted_users], axis=1).pivot_table(index=\"adopted_users\", aggfunc=lambda x: np.mean(x))\n",
    "last_login_since_creation_adopt"
   ]
  },
  {
   "cell_type": "code",
   "execution_count": 45,
   "metadata": {},
   "outputs": [
    {
     "data": {
      "text/plain": [
       "Text(0.5, 0, 'last_session_since_first [day]')"
      ]
     },
     "execution_count": 45,
     "metadata": {},
     "output_type": "execute_result"
    },
    {
     "data": {
      "image/png": "[encoded data removed]",
      "text/plain": [
       "<Figure size 432x288 with 1 Axes>"
      ]
     },
     "metadata": {
      "needs_background": "light"
     },
     "output_type": "display_data"
    }
   ],
   "source": [
    "last_login_since_creation[adopted_users].dt.days.plot.hist( density=True, bins=np.linspace(0, 750, 31), label=\"adopted\")\n",
    "last_login_since_creation[~adopted_users].dt.days.plot.hist(color=\"c\", density=True, bins=np.linspace(0, 750, 31), label=\"non-adopted\")\n",
    "plt.legend()\n",
    "plt.xlabel(\"last_session_since_first [day]\")"
   ]
  },
  {
   "cell_type": "markdown",
   "metadata": {},
   "source": [
    "We can see that there is a large difference in distribution between the adopted and non adopted users, we can take a log of this data to get a clearer picture"
   ]
  },
  {
   "cell_type": "code",
   "execution_count": 46,
   "metadata": {},
   "outputs": [
    {
     "data": {
      "text/plain": [
       "Text(0.5, 0, 'log(x+1) of last_session_since_first [arbitary unit]')"
      ]
     },
     "execution_count": 46,
     "metadata": {},
     "output_type": "execute_result"
    },
    {
     "data": {
      "image/png": "[encoded data removed]",
      "text/plain": [
       "<Figure size 432x288 with 1 Axes>"
      ]
     },
     "metadata": {
      "needs_background": "light"
     },
     "output_type": "display_data"
    }
   ],
   "source": [
    "np.log10(last_login_since_creation.dt.days + 1)[adopted_users].plot.hist( density=True, label=\"adopted\")\n",
    "np.log10(last_login_since_creation.dt.days + 1)[~adopted_users].plot.hist(color=\"c\", density=True, label=\"non-adopted\")\n",
    "plt.legend()\n",
    "plt.xlabel(\"log(x+1) of last_session_since_first [arbitary unit]\")"
   ]
  },
  {
   "cell_type": "markdown",
   "metadata": {},
   "source": [
    "We can see that the log(x + 1) transformation has made the distributions more manageable, and have more normal qualities"
   ]
  },
  {
   "cell_type": "markdown",
   "metadata": {},
   "source": [
    "In this scenario since we are dealing with numeric values opposed to categorical, to test independance of variables a t-test should be used \n",
    "\n",
    "The null hypothesis is that the last login is independant of adopted users.\n",
    "The alternate hypothesis is that the last login is not indpendant of adopted users."
   ]
  },
  {
   "cell_type": "code",
   "execution_count": 47,
   "metadata": {},
   "outputs": [
    {
     "name": "stdout",
     "output_type": "stream",
     "text": [
      "P-value of t test: 0.0\n"
     ]
    }
   ],
   "source": [
    "from scipy.stats import ttest_ind\n",
    "\n",
    "x = np.log10(last_login_since_creation.dt.days + 1)[adopted_users].values\n",
    "y = np.log10(last_login_since_creation.dt.days + 1)[~adopted_users].values\n",
    "\n",
    "_, p = ttest_ind(x, y)\n",
    "print(\"P-value of t test: {}\".format(p))"
   ]
  },
  {
   "cell_type": "markdown",
   "metadata": {},
   "source": [
    "With a p-value of 0, we can safely reject the null hypothesis and conclude that the last login is not indpendant of adopted users"
   ]
  },
  {
   "cell_type": "code",
   "execution_count": 48,
   "metadata": {},
   "outputs": [
    {
     "data": {
      "text/plain": [
       "0          0\n",
       "1        136\n",
       "2          0\n",
       "3          1\n",
       "4          5\n",
       "        ... \n",
       "11995      0\n",
       "11996      5\n",
       "11997      0\n",
       "11998      2\n",
       "11999      0\n",
       "Name: last_login_since_first, Length: 12000, dtype: int64"
      ]
     },
     "execution_count": 48,
     "metadata": {},
     "output_type": "execute_result"
    }
   ],
   "source": [
    "last_login_feature = last_login_since_creation.dt.days\n",
    "last_login_feature"
   ]
  },
  {
   "cell_type": "markdown",
   "metadata": {},
   "source": [
    "### Opted In for Mailing"
   ]
  },
  {
   "cell_type": "code",
   "execution_count": 50,
   "metadata": {},
   "outputs": [
    {
     "name": "stdout",
     "output_type": "stream",
     "text": [
      "Adoption rate - opted into mailing list\n"
     ]
    },
    {
     "data": {
      "text/html": [
       "<div>\n",
       "<style scoped>\n",
       "    .dataframe tbody tr th:only-of-type {\n",
       "        vertical-align: middle;\n",
       "    }\n",
       "\n",
       "    .dataframe tbody tr th {\n",
       "        vertical-align: top;\n",
       "    }\n",
       "\n",
       "    .dataframe thead th {\n",
       "        text-align: right;\n",
       "    }\n",
       "</style>\n",
       "<table border=\"1\" class=\"dataframe\">\n",
       "  <thead>\n",
       "    <tr style=\"text-align: right;\">\n",
       "      <th>opted_in_to_mailing_list</th>\n",
       "      <th>0</th>\n",
       "      <th>1</th>\n",
       "    </tr>\n",
       "    <tr>\n",
       "      <th>adopted_users</th>\n",
       "      <th></th>\n",
       "      <th></th>\n",
       "    </tr>\n",
       "  </thead>\n",
       "  <tbody>\n",
       "    <tr>\n",
       "      <th>False</th>\n",
       "      <td>0.863757</td>\n",
       "      <td>0.856713</td>\n",
       "    </tr>\n",
       "    <tr>\n",
       "      <th>True</th>\n",
       "      <td>0.136243</td>\n",
       "      <td>0.143287</td>\n",
       "    </tr>\n",
       "  </tbody>\n",
       "</table>\n",
       "</div>"
      ],
      "text/plain": [
       "opted_in_to_mailing_list         0         1\n",
       "adopted_users                               \n",
       "False                     0.863757  0.856713\n",
       "True                      0.136243  0.143287"
      ]
     },
     "execution_count": 50,
     "metadata": {},
     "output_type": "execute_result"
    }
   ],
   "source": [
    "print(\"Adoption rate - opted into mailing list\")\n",
    "pd.crosstab(adopted_users, users.opted_in_to_mailing_list, normalize=\"columns\")"
   ]
  },
  {
   "cell_type": "markdown",
   "metadata": {},
   "source": [
    "This chart shouls that there is less than a 1% difference in adopted users who opted into the mailing list and those that did not opt into the adopted users"
   ]
  },
  {
   "cell_type": "markdown",
   "metadata": {},
   "source": [
    "### Organization ID"
   ]
  },
  {
   "cell_type": "code",
   "execution_count": 53,
   "metadata": {},
   "outputs": [
    {
     "data": {
      "text/html": [
       "<div>\n",
       "<style scoped>\n",
       "    .dataframe tbody tr th:only-of-type {\n",
       "        vertical-align: middle;\n",
       "    }\n",
       "\n",
       "    .dataframe tbody tr th {\n",
       "        vertical-align: top;\n",
       "    }\n",
       "\n",
       "    .dataframe thead th {\n",
       "        text-align: right;\n",
       "    }\n",
       "</style>\n",
       "<table border=\"1\" class=\"dataframe\">\n",
       "  <thead>\n",
       "    <tr style=\"text-align: right;\">\n",
       "      <th></th>\n",
       "      <th>total_count</th>\n",
       "      <th>adopted_count</th>\n",
       "      <th>adopted_rate</th>\n",
       "    </tr>\n",
       "    <tr>\n",
       "      <th>org_id</th>\n",
       "      <th></th>\n",
       "      <th></th>\n",
       "      <th></th>\n",
       "    </tr>\n",
       "  </thead>\n",
       "  <tbody>\n",
       "    <tr>\n",
       "      <th>387</th>\n",
       "      <td>12.0</td>\n",
       "      <td>7.0</td>\n",
       "      <td>0.583333</td>\n",
       "    </tr>\n",
       "    <tr>\n",
       "      <th>235</th>\n",
       "      <td>13.0</td>\n",
       "      <td>6.0</td>\n",
       "      <td>0.461538</td>\n",
       "    </tr>\n",
       "    <tr>\n",
       "      <th>270</th>\n",
       "      <td>14.0</td>\n",
       "      <td>6.0</td>\n",
       "      <td>0.428571</td>\n",
       "    </tr>\n",
       "    <tr>\n",
       "      <th>399</th>\n",
       "      <td>13.0</td>\n",
       "      <td>5.0</td>\n",
       "      <td>0.384615</td>\n",
       "    </tr>\n",
       "    <tr>\n",
       "      <th>392</th>\n",
       "      <td>16.0</td>\n",
       "      <td>6.0</td>\n",
       "      <td>0.375000</td>\n",
       "    </tr>\n",
       "    <tr>\n",
       "      <th>...</th>\n",
       "      <td>...</td>\n",
       "      <td>...</td>\n",
       "      <td>...</td>\n",
       "    </tr>\n",
       "    <tr>\n",
       "      <th>329</th>\n",
       "      <td>13.0</td>\n",
       "      <td>0.0</td>\n",
       "      <td>0.000000</td>\n",
       "    </tr>\n",
       "    <tr>\n",
       "      <th>346</th>\n",
       "      <td>12.0</td>\n",
       "      <td>0.0</td>\n",
       "      <td>0.000000</td>\n",
       "    </tr>\n",
       "    <tr>\n",
       "      <th>183</th>\n",
       "      <td>11.0</td>\n",
       "      <td>0.0</td>\n",
       "      <td>0.000000</td>\n",
       "    </tr>\n",
       "    <tr>\n",
       "      <th>365</th>\n",
       "      <td>11.0</td>\n",
       "      <td>0.0</td>\n",
       "      <td>0.000000</td>\n",
       "    </tr>\n",
       "    <tr>\n",
       "      <th>others</th>\n",
       "      <td>111.0</td>\n",
       "      <td>20.0</td>\n",
       "      <td>0.180180</td>\n",
       "    </tr>\n",
       "  </tbody>\n",
       "</table>\n",
       "<p>405 rows × 3 columns</p>\n",
       "</div>"
      ],
      "text/plain": [
       "        total_count  adopted_count  adopted_rate\n",
       "org_id                                          \n",
       "387            12.0            7.0      0.583333\n",
       "235            13.0            6.0      0.461538\n",
       "270            14.0            6.0      0.428571\n",
       "399            13.0            5.0      0.384615\n",
       "392            16.0            6.0      0.375000\n",
       "...             ...            ...           ...\n",
       "329            13.0            0.0      0.000000\n",
       "346            12.0            0.0      0.000000\n",
       "183            11.0            0.0      0.000000\n",
       "365            11.0            0.0      0.000000\n",
       "others        111.0           20.0      0.180180\n",
       "\n",
       "[405 rows x 3 columns]"
      ]
     },
     "execution_count": 53,
     "metadata": {},
     "output_type": "execute_result"
    }
   ],
   "source": [
    "org_adopt = pd.concat([users.org_id, adopted_users], axis=1).groupby(\"org_id\").aggregate([len, np.sum, np.mean])\n",
    "org_adopt.columns = [\"total_count\", \"adopted_count\", \"adopted_rate\"]\n",
    "org_adopt = org_adopt.sort_values([\"adopted_rate\", \"adopted_count\", \"total_count\"], ascending=False)\n",
    "\n",
    "org_adopt_rest = org_adopt[org_adopt.total_count <= 10]\n",
    "org_adopt = org_adopt[org_adopt.total_count > 10]\n",
    "\n",
    "org_adopt_others = org_adopt_rest.sum()\n",
    "org_adopt_others.adopted_rate = org_adopt_others.adopted_count / org_adopt_others.total_count\n",
    "org_adopt_others.name = \"others\"\n",
    "org_adopt = org_adopt.append(org_adopt_others)\n",
    "org_adopt"
   ]
  },
  {
   "cell_type": "code",
   "execution_count": 54,
   "metadata": {},
   "outputs": [
    {
     "data": {
      "text/plain": [
       "Text(0, 0.5, 'adopted percantage')"
      ]
     },
     "execution_count": 54,
     "metadata": {},
     "output_type": "execute_result"
    },
    {
     "data": {
      "image/png": "[encoded data removed]",
      "text/plain": [
       "<Figure size 432x288 with 1 Axes>"
      ]
     },
     "metadata": {
      "needs_background": "light"
     },
     "output_type": "display_data"
    }
   ],
   "source": [
    "(org_adopt.adopted_rate * 100).plot.bar()\n",
    "plt.xticks([])\n",
    "plt.ylabel(\"adopted percantage\")"
   ]
  },
  {
   "cell_type": "markdown",
   "metadata": {},
   "source": [
    "Different organization have different adoption rates, and any org that has less than 10 users has been aggregated into other"
   ]
  },
  {
   "cell_type": "code",
   "execution_count": 55,
   "metadata": {},
   "outputs": [
    {
     "data": {
      "text/plain": [
       "0         11\n",
       "1          1\n",
       "2         94\n",
       "3          1\n",
       "4        193\n",
       "        ... \n",
       "11995     89\n",
       "11996    200\n",
       "11997     83\n",
       "11998      6\n",
       "11999      0\n",
       "Name: org_id, Length: 12000, dtype: object"
      ]
     },
     "execution_count": 55,
     "metadata": {},
     "output_type": "execute_result"
    }
   ],
   "source": [
    "org_id_feature = deepcopy(users.org_id)\n",
    "for i, x in enumerate(org_id_feature):\n",
    "    if x not in org_adopt.index:\n",
    "        org_id_feature[i] = \"others\"\n",
    "        \n",
    "org_id_feature"
   ]
  },
  {
   "cell_type": "markdown",
   "metadata": {},
   "source": [
    "### If the user was invited"
   ]
  },
  {
   "cell_type": "code",
   "execution_count": 57,
   "metadata": {},
   "outputs": [
    {
     "name": "stdout",
     "output_type": "stream",
     "text": [
      "Adoption rate - if users are invited\n"
     ]
    },
    {
     "data": {
      "text/html": [
       "<div>\n",
       "<style scoped>\n",
       "    .dataframe tbody tr th:only-of-type {\n",
       "        vertical-align: middle;\n",
       "    }\n",
       "\n",
       "    .dataframe tbody tr th {\n",
       "        vertical-align: top;\n",
       "    }\n",
       "\n",
       "    .dataframe thead th {\n",
       "        text-align: right;\n",
       "    }\n",
       "</style>\n",
       "<table border=\"1\" class=\"dataframe\">\n",
       "  <thead>\n",
       "    <tr style=\"text-align: right;\">\n",
       "      <th>invited</th>\n",
       "      <th>False</th>\n",
       "      <th>True</th>\n",
       "    </tr>\n",
       "    <tr>\n",
       "      <th>adopted_users</th>\n",
       "      <th></th>\n",
       "      <th></th>\n",
       "    </tr>\n",
       "  </thead>\n",
       "  <tbody>\n",
       "    <tr>\n",
       "      <th>False</th>\n",
       "      <td>0.872291</td>\n",
       "      <td>0.853047</td>\n",
       "    </tr>\n",
       "    <tr>\n",
       "      <th>True</th>\n",
       "      <td>0.127709</td>\n",
       "      <td>0.146953</td>\n",
       "    </tr>\n",
       "  </tbody>\n",
       "</table>\n",
       "</div>"
      ],
      "text/plain": [
       "invited           False     True \n",
       "adopted_users                    \n",
       "False          0.872291  0.853047\n",
       "True           0.127709  0.146953"
      ]
     },
     "execution_count": 57,
     "metadata": {},
     "output_type": "execute_result"
    }
   ],
   "source": [
    "invited = ~users.invited_by_user_id.isnull()\n",
    "invited.name = \"invited\"\n",
    "\n",
    "print(\"Adoption rate - if users are invited\")\n",
    "pd.crosstab(adopted_users, invited, normalize=\"columns\")"
   ]
  },
  {
   "cell_type": "markdown",
   "metadata": {},
   "source": [
    "We see that there is a slight difference in adoption from individuals who were invited vs users who were not invited"
   ]
  },
  {
   "cell_type": "markdown",
   "metadata": {},
   "source": [
    "For this scenario, since it is categorical variables we will again run a chi2 test to determine independance.\n",
    "\n",
    "The null hypothesis is that the invited users are independant of adoption rate\n",
    "The alternate hypothesis is that if a user was invited is not independant of adoption rate"
   ]
  },
  {
   "cell_type": "code",
   "execution_count": 58,
   "metadata": {},
   "outputs": [
    {
     "data": {
      "text/html": [
       "<div>\n",
       "<style scoped>\n",
       "    .dataframe tbody tr th:only-of-type {\n",
       "        vertical-align: middle;\n",
       "    }\n",
       "\n",
       "    .dataframe tbody tr th {\n",
       "        vertical-align: top;\n",
       "    }\n",
       "\n",
       "    .dataframe thead th {\n",
       "        text-align: right;\n",
       "    }\n",
       "</style>\n",
       "<table border=\"1\" class=\"dataframe\">\n",
       "  <thead>\n",
       "    <tr style=\"text-align: right;\">\n",
       "      <th>adopted_users</th>\n",
       "      <th>False</th>\n",
       "      <th>True</th>\n",
       "    </tr>\n",
       "    <tr>\n",
       "      <th>invited</th>\n",
       "      <th></th>\n",
       "      <th></th>\n",
       "    </tr>\n",
       "  </thead>\n",
       "  <tbody>\n",
       "    <tr>\n",
       "      <th>False</th>\n",
       "      <td>4870</td>\n",
       "      <td>713</td>\n",
       "    </tr>\n",
       "    <tr>\n",
       "      <th>True</th>\n",
       "      <td>5474</td>\n",
       "      <td>943</td>\n",
       "    </tr>\n",
       "  </tbody>\n",
       "</table>\n",
       "</div>"
      ],
      "text/plain": [
       "adopted_users  False  True \n",
       "invited                    \n",
       "False           4870    713\n",
       "True            5474    943"
      ]
     },
     "execution_count": 58,
     "metadata": {},
     "output_type": "execute_result"
    }
   ],
   "source": [
    "inv_table = pd.crosstab(invited, adopted_users)\n",
    "inv_table"
   ]
  },
  {
   "cell_type": "code",
   "execution_count": 59,
   "metadata": {},
   "outputs": [
    {
     "name": "stdout",
     "output_type": "stream",
     "text": [
      "P-value for invited users:0.0025095251588626395\n"
     ]
    }
   ],
   "source": [
    "_, p, _, _ = chi2_contingency(inv_table)\n",
    "print('P-value for invited users:{}'.format(p))"
   ]
  },
  {
   "cell_type": "markdown",
   "metadata": {},
   "source": [
    "Since the p-value for the chi2 test is 0.0025 we can safely reject the null hypothesis that an invited user is independant of adoption"
   ]
  },
  {
   "cell_type": "markdown",
   "metadata": {},
   "source": [
    "While this feature is significant, it encapsulates another feature about who the invite was sent from, that will be the feature included in the model"
   ]
  },
  {
   "cell_type": "markdown",
   "metadata": {},
   "source": [
    "### Who sent the invitation"
   ]
  },
  {
   "cell_type": "code",
   "execution_count": 62,
   "metadata": {},
   "outputs": [
    {
     "data": {
      "text/html": [
       "<div>\n",
       "<style scoped>\n",
       "    .dataframe tbody tr th:only-of-type {\n",
       "        vertical-align: middle;\n",
       "    }\n",
       "\n",
       "    .dataframe tbody tr th {\n",
       "        vertical-align: top;\n",
       "    }\n",
       "\n",
       "    .dataframe thead th {\n",
       "        text-align: right;\n",
       "    }\n",
       "</style>\n",
       "<table border=\"1\" class=\"dataframe\">\n",
       "  <thead>\n",
       "    <tr style=\"text-align: right;\">\n",
       "      <th></th>\n",
       "      <th>total_count</th>\n",
       "      <th>adopted_count</th>\n",
       "      <th>adopted_rate</th>\n",
       "    </tr>\n",
       "    <tr>\n",
       "      <th>invited_by_user_id</th>\n",
       "      <th></th>\n",
       "      <th></th>\n",
       "      <th></th>\n",
       "    </tr>\n",
       "  </thead>\n",
       "  <tbody>\n",
       "    <tr>\n",
       "      <th>2527.0</th>\n",
       "      <td>12.0</td>\n",
       "      <td>2.0</td>\n",
       "      <td>0.166667</td>\n",
       "    </tr>\n",
       "    <tr>\n",
       "      <th>not invited</th>\n",
       "      <td>5583.0</td>\n",
       "      <td>713.0</td>\n",
       "      <td>0.127709</td>\n",
       "    </tr>\n",
       "    <tr>\n",
       "      <th>11770.0</th>\n",
       "      <td>11.0</td>\n",
       "      <td>1.0</td>\n",
       "      <td>0.090909</td>\n",
       "    </tr>\n",
       "    <tr>\n",
       "      <th>2308.0</th>\n",
       "      <td>11.0</td>\n",
       "      <td>1.0</td>\n",
       "      <td>0.090909</td>\n",
       "    </tr>\n",
       "    <tr>\n",
       "      <th>10741.0</th>\n",
       "      <td>13.0</td>\n",
       "      <td>1.0</td>\n",
       "      <td>0.076923</td>\n",
       "    </tr>\n",
       "    <tr>\n",
       "      <th>1525.0</th>\n",
       "      <td>11.0</td>\n",
       "      <td>0.0</td>\n",
       "      <td>0.000000</td>\n",
       "    </tr>\n",
       "    <tr>\n",
       "      <th>others</th>\n",
       "      <td>6359.0</td>\n",
       "      <td>938.0</td>\n",
       "      <td>0.147507</td>\n",
       "    </tr>\n",
       "  </tbody>\n",
       "</table>\n",
       "</div>"
      ],
      "text/plain": [
       "                    total_count  adopted_count  adopted_rate\n",
       "invited_by_user_id                                          \n",
       "2527.0                     12.0            2.0      0.166667\n",
       "not invited              5583.0          713.0      0.127709\n",
       "11770.0                    11.0            1.0      0.090909\n",
       "2308.0                     11.0            1.0      0.090909\n",
       "10741.0                    13.0            1.0      0.076923\n",
       "1525.0                     11.0            0.0      0.000000\n",
       "others                   6359.0          938.0      0.147507"
      ]
     },
     "execution_count": 62,
     "metadata": {},
     "output_type": "execute_result"
    }
   ],
   "source": [
    "invited_by_adopt = pd.concat([users.invited_by_user_id, adopted_users], axis=1)\n",
    "invited_by_adopt.invited_by_user_id = invited_by_adopt.invited_by_user_id.fillna(0).astype(str)\n",
    "invited_by_adopt.invited_by_user_id = invited_by_adopt.invited_by_user_id.replace(\"0.0\", \"not invited\")\n",
    "\n",
    "invited_by_adopt = invited_by_adopt.groupby(\"invited_by_user_id\").aggregate([len, np.sum, np.mean])\n",
    "invited_by_adopt.columns = [\"total_count\", \"adopted_count\", \"adopted_rate\"]\n",
    "invited_by_adopt = invited_by_adopt.sort_values([\"adopted_rate\", \"adopted_count\", \"total_count\"], ascending=False)\n",
    "\n",
    "invited_by_adopt_rest = invited_by_adopt[invited_by_adopt.total_count <= 10]\n",
    "invited_by_adopt = invited_by_adopt[invited_by_adopt.total_count > 10]\n",
    "\n",
    "invited_by_adopt_others = invited_by_adopt_rest.sum()\n",
    "invited_by_adopt_others.adopted_rate =invited_by_adopt_others.adopted_count / invited_by_adopt_others.total_count\n",
    "invited_by_adopt_others.name = \"others\"\n",
    "invited_by_adopt = invited_by_adopt.append(invited_by_adopt_others)\n",
    "invited_by_adopt"
   ]
  },
  {
   "cell_type": "code",
   "execution_count": 64,
   "metadata": {},
   "outputs": [
    {
     "data": {
      "image/png": "[encoded data removed]",
      "text/plain": [
       "<Figure size 432x288 with 2 Axes>"
      ]
     },
     "metadata": {
      "needs_background": "light"
     },
     "output_type": "display_data"
    }
   ],
   "source": [
    "plt.figure()\n",
    "\n",
    "ax1 = plt.gca()\n",
    "ax2 = ax1.twinx()\n",
    "\n",
    "invited_by_adopt.total_count.plot.bar(label = 'total count', position = 0, width = 0.25, ax = ax1)\n",
    "(invited_by_adopt.adopted_rate*100).plot.bar(label = 'adoption percentage', color = 'c', position = 1, width = 0.25, ax = ax2)\n",
    "ax1.legend(loc = 'upper right')\n",
    "ax2.legend(loc = 'upper left')\n",
    "ax1.set_yscale('log')"
   ]
  },
  {
   "cell_type": "markdown",
   "metadata": {},
   "source": [
    "Again the best test to run to determine the relationship between the invited by, and adopted users\n",
    "\n",
    "The null hypothesis is that if a user is invited is independant to the adoption of that user\n",
    "The alternate hypothesis is that if a user is invited is not independant of the adoption of that user"
   ]
  },
  {
   "cell_type": "code",
   "execution_count": 66,
   "metadata": {},
   "outputs": [
    {
     "data": {
      "text/html": [
       "<div>\n",
       "<style scoped>\n",
       "    .dataframe tbody tr th:only-of-type {\n",
       "        vertical-align: middle;\n",
       "    }\n",
       "\n",
       "    .dataframe tbody tr th {\n",
       "        vertical-align: top;\n",
       "    }\n",
       "\n",
       "    .dataframe thead th {\n",
       "        text-align: right;\n",
       "    }\n",
       "</style>\n",
       "<table border=\"1\" class=\"dataframe\">\n",
       "  <thead>\n",
       "    <tr style=\"text-align: right;\">\n",
       "      <th></th>\n",
       "      <th>nonadopted_count</th>\n",
       "      <th>adopted_count</th>\n",
       "    </tr>\n",
       "    <tr>\n",
       "      <th>invited_by_user_id</th>\n",
       "      <th></th>\n",
       "      <th></th>\n",
       "    </tr>\n",
       "  </thead>\n",
       "  <tbody>\n",
       "    <tr>\n",
       "      <th>2527.0</th>\n",
       "      <td>10.0</td>\n",
       "      <td>2.0</td>\n",
       "    </tr>\n",
       "    <tr>\n",
       "      <th>not invited</th>\n",
       "      <td>4870.0</td>\n",
       "      <td>713.0</td>\n",
       "    </tr>\n",
       "    <tr>\n",
       "      <th>11770.0</th>\n",
       "      <td>10.0</td>\n",
       "      <td>1.0</td>\n",
       "    </tr>\n",
       "    <tr>\n",
       "      <th>2308.0</th>\n",
       "      <td>10.0</td>\n",
       "      <td>1.0</td>\n",
       "    </tr>\n",
       "    <tr>\n",
       "      <th>10741.0</th>\n",
       "      <td>12.0</td>\n",
       "      <td>1.0</td>\n",
       "    </tr>\n",
       "    <tr>\n",
       "      <th>1525.0</th>\n",
       "      <td>11.0</td>\n",
       "      <td>0.0</td>\n",
       "    </tr>\n",
       "    <tr>\n",
       "      <th>others</th>\n",
       "      <td>5421.0</td>\n",
       "      <td>938.0</td>\n",
       "    </tr>\n",
       "  </tbody>\n",
       "</table>\n",
       "</div>"
      ],
      "text/plain": [
       "                    nonadopted_count  adopted_count\n",
       "invited_by_user_id                                 \n",
       "2527.0                          10.0            2.0\n",
       "not invited                   4870.0          713.0\n",
       "11770.0                         10.0            1.0\n",
       "2308.0                          10.0            1.0\n",
       "10741.0                         12.0            1.0\n",
       "1525.0                          11.0            0.0\n",
       "others                        5421.0          938.0"
      ]
     },
     "execution_count": 66,
     "metadata": {},
     "output_type": "execute_result"
    }
   ],
   "source": [
    "invite_table = pd.concat([(invited_by_adopt.total_count - invited_by_adopt.adopted_count), invited_by_adopt.adopted_count], axis=1)\n",
    "invite_table.columns = [\"nonadopted_count\", \"adopted_count\"]\n",
    "invite_table"
   ]
  },
  {
   "cell_type": "code",
   "execution_count": 67,
   "metadata": {},
   "outputs": [
    {
     "name": "stdout",
     "output_type": "stream",
     "text": [
      "P-value for Invited by and Adoption: 0.05238057162545333\n"
     ]
    }
   ],
   "source": [
    "_, p, _, _ = chi2_contingency(invite_table)\n",
    "print('P-value for Invited by and Adoption: {}'.format(p))"
   ]
  },
  {
   "cell_type": "markdown",
   "metadata": {},
   "source": [
    "While the p-value is close, it is not significant enough to reject the null hypothesis"
   ]
  },
  {
   "cell_type": "markdown",
   "metadata": {},
   "source": [
    "### If users are invited by adopted users"
   ]
  },
  {
   "cell_type": "code",
   "execution_count": 71,
   "metadata": {},
   "outputs": [
    {
     "name": "stdout",
     "output_type": "stream",
     "text": [
      "Adoption rate - if users are invited by adopted users\n"
     ]
    },
    {
     "data": {
      "text/html": [
       "<div>\n",
       "<style scoped>\n",
       "    .dataframe tbody tr th:only-of-type {\n",
       "        vertical-align: middle;\n",
       "    }\n",
       "\n",
       "    .dataframe tbody tr th {\n",
       "        vertical-align: top;\n",
       "    }\n",
       "\n",
       "    .dataframe thead th {\n",
       "        text-align: right;\n",
       "    }\n",
       "</style>\n",
       "<table border=\"1\" class=\"dataframe\">\n",
       "  <thead>\n",
       "    <tr style=\"text-align: right;\">\n",
       "      <th>invited_by_adopted_user</th>\n",
       "      <th>False</th>\n",
       "      <th>True</th>\n",
       "      <th>not invited</th>\n",
       "    </tr>\n",
       "    <tr>\n",
       "      <th>adopted_users</th>\n",
       "      <th></th>\n",
       "      <th></th>\n",
       "      <th></th>\n",
       "    </tr>\n",
       "  </thead>\n",
       "  <tbody>\n",
       "    <tr>\n",
       "      <th>False</th>\n",
       "      <td>0.866742</td>\n",
       "      <td>0.789242</td>\n",
       "      <td>0.872291</td>\n",
       "    </tr>\n",
       "    <tr>\n",
       "      <th>True</th>\n",
       "      <td>0.133258</td>\n",
       "      <td>0.210758</td>\n",
       "      <td>0.127709</td>\n",
       "    </tr>\n",
       "  </tbody>\n",
       "</table>\n",
       "</div>"
      ],
      "text/plain": [
       "invited_by_adopted_user     False      True  not invited\n",
       "adopted_users                                           \n",
       "False                    0.866742  0.789242     0.872291\n",
       "True                     0.133258  0.210758     0.127709"
      ]
     },
     "execution_count": 71,
     "metadata": {},
     "output_type": "execute_result"
    }
   ],
   "source": [
    "invited_by_adopted_user = pd.merge(users.invited_by_user_id, pd.concat([users.object_id, adopted_users], axis=1), left_on=\"invited_by_user_id\", right_on=\"object_id\", how=\"left\")[\"adopted_users\"]\n",
    "invited_by_adopted_user.name = \"invited_by_adopted_user\"\n",
    "invited_by_adopted_user = invited_by_adopted_user.fillna(\"not invited\")\n",
    "\n",
    "print(\"Adoption rate - if users are invited by adopted users\")\n",
    "pd.crosstab(adopted_users, invited_by_adopted_user, normalize=\"columns\")"
   ]
  },
  {
   "cell_type": "markdown",
   "metadata": {},
   "source": [
    "It appears that the adoption rate is higher if a new user is invited by an adopted user"
   ]
  },
  {
   "cell_type": "code",
   "execution_count": 72,
   "metadata": {},
   "outputs": [
    {
     "data": {
      "text/html": [
       "<div>\n",
       "<style scoped>\n",
       "    .dataframe tbody tr th:only-of-type {\n",
       "        vertical-align: middle;\n",
       "    }\n",
       "\n",
       "    .dataframe tbody tr th {\n",
       "        vertical-align: top;\n",
       "    }\n",
       "\n",
       "    .dataframe thead th {\n",
       "        text-align: right;\n",
       "    }\n",
       "</style>\n",
       "<table border=\"1\" class=\"dataframe\">\n",
       "  <thead>\n",
       "    <tr style=\"text-align: right;\">\n",
       "      <th>adopted_users</th>\n",
       "      <th>False</th>\n",
       "      <th>True</th>\n",
       "    </tr>\n",
       "    <tr>\n",
       "      <th>invited_by_adopted_user</th>\n",
       "      <th></th>\n",
       "      <th></th>\n",
       "    </tr>\n",
       "  </thead>\n",
       "  <tbody>\n",
       "    <tr>\n",
       "      <th>False</th>\n",
       "      <td>4579</td>\n",
       "      <td>704</td>\n",
       "    </tr>\n",
       "    <tr>\n",
       "      <th>True</th>\n",
       "      <td>895</td>\n",
       "      <td>239</td>\n",
       "    </tr>\n",
       "    <tr>\n",
       "      <th>not invited</th>\n",
       "      <td>4870</td>\n",
       "      <td>713</td>\n",
       "    </tr>\n",
       "  </tbody>\n",
       "</table>\n",
       "</div>"
      ],
      "text/plain": [
       "adopted_users            False  True \n",
       "invited_by_adopted_user              \n",
       "False                     4579    704\n",
       "True                       895    239\n",
       "not invited               4870    713"
      ]
     },
     "execution_count": 72,
     "metadata": {},
     "output_type": "execute_result"
    }
   ],
   "source": [
    "invited_adopted_table = pd.crosstab(invited_by_adopted_user, adopted_users)\n",
    "invited_adopted_table"
   ]
  },
  {
   "cell_type": "markdown",
   "metadata": {},
   "source": [
    "Again the best way to determine if the variables are independant is a chi2 test\n",
    "\n",
    "The null hypothesis is that an invite by an adopted user is independant of adoption of new users\n",
    "The alternate hypothesis is that an invite by an adopted user is not independant of adoption of new users"
   ]
  },
  {
   "cell_type": "code",
   "execution_count": 73,
   "metadata": {},
   "outputs": [
    {
     "name": "stdout",
     "output_type": "stream",
     "text": [
      "P-value for invited adopted users:5.56436080629406e-13\n"
     ]
    }
   ],
   "source": [
    "_, p, _, _ = chi2_contingency(invited_adopted_table)\n",
    "print('P-value for invited adopted users:{}'.format(p))"
   ]
  },
  {
   "cell_type": "markdown",
   "metadata": {},
   "source": [
    "With a p-value of 5.56e-13 we can conclude that the if a user is invited by an adopted user, is not independant of user adoption"
   ]
  },
  {
   "cell_type": "code",
   "execution_count": 74,
   "metadata": {},
   "outputs": [
    {
     "data": {
      "text/plain": [
       "0              False\n",
       "1              False\n",
       "2               True\n",
       "3               True\n",
       "4               True\n",
       "            ...     \n",
       "11995          False\n",
       "11996    not invited\n",
       "11997          False\n",
       "11998    not invited\n",
       "11999    not invited\n",
       "Name: invited_by_adopted_user, Length: 12000, dtype: object"
      ]
     },
     "execution_count": 74,
     "metadata": {},
     "output_type": "execute_result"
    }
   ],
   "source": [
    "invited_by_adopted_user_feature = invited_by_adopted_user\n",
    "invited_by_adopted_user_feature"
   ]
  },
  {
   "cell_type": "markdown",
   "metadata": {},
   "source": [
    "### Logistic Regression Model"
   ]
  },
  {
   "cell_type": "markdown",
   "metadata": {},
   "source": [
    "From above, the features we will use in the model are Email domain, Creation source, Time passed since user creation to last login, Organization_ID and If users are invited by adopted users, as features that will predict user adoption"
   ]
  },
  {
   "cell_type": "code",
   "execution_count": 78,
   "metadata": {},
   "outputs": [],
   "source": [
    "X = pd.concat([email_domain_feature, last_login_feature,creation_feature, org_id_feature, invited_by_adopted_user_feature], axis = 1)\n",
    "y = adopted_users"
   ]
  },
  {
   "cell_type": "code",
   "execution_count": 79,
   "metadata": {},
   "outputs": [
    {
     "data": {
      "text/html": [
       "<div>\n",
       "<style scoped>\n",
       "    .dataframe tbody tr th:only-of-type {\n",
       "        vertical-align: middle;\n",
       "    }\n",
       "\n",
       "    .dataframe tbody tr th {\n",
       "        vertical-align: top;\n",
       "    }\n",
       "\n",
       "    .dataframe thead th {\n",
       "        text-align: right;\n",
       "    }\n",
       "</style>\n",
       "<table border=\"1\" class=\"dataframe\">\n",
       "  <thead>\n",
       "    <tr style=\"text-align: right;\">\n",
       "      <th></th>\n",
       "      <th>email_domain</th>\n",
       "      <th>last_login_since_first</th>\n",
       "      <th>creation_source</th>\n",
       "      <th>org_id</th>\n",
       "      <th>invited_by_adopted_user</th>\n",
       "    </tr>\n",
       "  </thead>\n",
       "  <tbody>\n",
       "    <tr>\n",
       "      <th>0</th>\n",
       "      <td>yahoo.com</td>\n",
       "      <td>0</td>\n",
       "      <td>GUEST_INVITE</td>\n",
       "      <td>11</td>\n",
       "      <td>False</td>\n",
       "    </tr>\n",
       "    <tr>\n",
       "      <th>1</th>\n",
       "      <td>gustr.com</td>\n",
       "      <td>136</td>\n",
       "      <td>ORG_INVITE</td>\n",
       "      <td>1</td>\n",
       "      <td>False</td>\n",
       "    </tr>\n",
       "    <tr>\n",
       "      <th>2</th>\n",
       "      <td>gustr.com</td>\n",
       "      <td>0</td>\n",
       "      <td>ORG_INVITE</td>\n",
       "      <td>94</td>\n",
       "      <td>True</td>\n",
       "    </tr>\n",
       "    <tr>\n",
       "      <th>3</th>\n",
       "      <td>yahoo.com</td>\n",
       "      <td>1</td>\n",
       "      <td>GUEST_INVITE</td>\n",
       "      <td>1</td>\n",
       "      <td>True</td>\n",
       "    </tr>\n",
       "    <tr>\n",
       "      <th>4</th>\n",
       "      <td>yahoo.com</td>\n",
       "      <td>5</td>\n",
       "      <td>GUEST_INVITE</td>\n",
       "      <td>193</td>\n",
       "      <td>True</td>\n",
       "    </tr>\n",
       "  </tbody>\n",
       "</table>\n",
       "</div>"
      ],
      "text/plain": [
       "  email_domain  last_login_since_first creation_source org_id  \\\n",
       "0    yahoo.com                       0    GUEST_INVITE     11   \n",
       "1    gustr.com                     136      ORG_INVITE      1   \n",
       "2    gustr.com                       0      ORG_INVITE     94   \n",
       "3    yahoo.com                       1    GUEST_INVITE      1   \n",
       "4    yahoo.com                       5    GUEST_INVITE    193   \n",
       "\n",
       "  invited_by_adopted_user  \n",
       "0                   False  \n",
       "1                   False  \n",
       "2                    True  \n",
       "3                    True  \n",
       "4                    True  "
      ]
     },
     "execution_count": 79,
     "metadata": {},
     "output_type": "execute_result"
    }
   ],
   "source": [
    "X.head()"
   ]
  },
  {
   "cell_type": "code",
   "execution_count": 81,
   "metadata": {},
   "outputs": [
    {
     "data": {
      "text/html": [
       "<div>\n",
       "<style scoped>\n",
       "    .dataframe tbody tr th:only-of-type {\n",
       "        vertical-align: middle;\n",
       "    }\n",
       "\n",
       "    .dataframe tbody tr th {\n",
       "        vertical-align: top;\n",
       "    }\n",
       "\n",
       "    .dataframe thead th {\n",
       "        text-align: right;\n",
       "    }\n",
       "</style>\n",
       "<table border=\"1\" class=\"dataframe\">\n",
       "  <thead>\n",
       "    <tr style=\"text-align: right;\">\n",
       "      <th></th>\n",
       "      <th>last_login_since_first</th>\n",
       "      <th>email_domain_cuvox.de</th>\n",
       "      <th>email_domain_gmail.com</th>\n",
       "      <th>email_domain_gustr.com</th>\n",
       "      <th>email_domain_hotmail.com</th>\n",
       "      <th>email_domain_jourrapide.com</th>\n",
       "      <th>email_domain_others</th>\n",
       "      <th>email_domain_yahoo.com</th>\n",
       "      <th>creation_source_GUEST_INVITE</th>\n",
       "      <th>creation_source_ORG_INVITE</th>\n",
       "      <th>...</th>\n",
       "      <th>org_id_410</th>\n",
       "      <th>org_id_411</th>\n",
       "      <th>org_id_412</th>\n",
       "      <th>org_id_413</th>\n",
       "      <th>org_id_414</th>\n",
       "      <th>org_id_415</th>\n",
       "      <th>org_id_others</th>\n",
       "      <th>invited_by_adopted_user_False</th>\n",
       "      <th>invited_by_adopted_user_True</th>\n",
       "      <th>invited_by_adopted_user_not invited</th>\n",
       "    </tr>\n",
       "  </thead>\n",
       "  <tbody>\n",
       "    <tr>\n",
       "      <th>0</th>\n",
       "      <td>0.000000</td>\n",
       "      <td>0</td>\n",
       "      <td>0</td>\n",
       "      <td>0</td>\n",
       "      <td>0</td>\n",
       "      <td>0</td>\n",
       "      <td>0</td>\n",
       "      <td>1</td>\n",
       "      <td>1</td>\n",
       "      <td>0</td>\n",
       "      <td>...</td>\n",
       "      <td>0</td>\n",
       "      <td>0</td>\n",
       "      <td>0</td>\n",
       "      <td>0</td>\n",
       "      <td>0</td>\n",
       "      <td>0</td>\n",
       "      <td>0</td>\n",
       "      <td>1</td>\n",
       "      <td>0</td>\n",
       "      <td>0</td>\n",
       "    </tr>\n",
       "    <tr>\n",
       "      <th>1</th>\n",
       "      <td>2.136721</td>\n",
       "      <td>0</td>\n",
       "      <td>0</td>\n",
       "      <td>1</td>\n",
       "      <td>0</td>\n",
       "      <td>0</td>\n",
       "      <td>0</td>\n",
       "      <td>0</td>\n",
       "      <td>0</td>\n",
       "      <td>1</td>\n",
       "      <td>...</td>\n",
       "      <td>0</td>\n",
       "      <td>0</td>\n",
       "      <td>0</td>\n",
       "      <td>0</td>\n",
       "      <td>0</td>\n",
       "      <td>0</td>\n",
       "      <td>0</td>\n",
       "      <td>1</td>\n",
       "      <td>0</td>\n",
       "      <td>0</td>\n",
       "    </tr>\n",
       "    <tr>\n",
       "      <th>2</th>\n",
       "      <td>0.000000</td>\n",
       "      <td>0</td>\n",
       "      <td>0</td>\n",
       "      <td>1</td>\n",
       "      <td>0</td>\n",
       "      <td>0</td>\n",
       "      <td>0</td>\n",
       "      <td>0</td>\n",
       "      <td>0</td>\n",
       "      <td>1</td>\n",
       "      <td>...</td>\n",
       "      <td>0</td>\n",
       "      <td>0</td>\n",
       "      <td>0</td>\n",
       "      <td>0</td>\n",
       "      <td>0</td>\n",
       "      <td>0</td>\n",
       "      <td>0</td>\n",
       "      <td>0</td>\n",
       "      <td>1</td>\n",
       "      <td>0</td>\n",
       "    </tr>\n",
       "    <tr>\n",
       "      <th>3</th>\n",
       "      <td>0.301030</td>\n",
       "      <td>0</td>\n",
       "      <td>0</td>\n",
       "      <td>0</td>\n",
       "      <td>0</td>\n",
       "      <td>0</td>\n",
       "      <td>0</td>\n",
       "      <td>1</td>\n",
       "      <td>1</td>\n",
       "      <td>0</td>\n",
       "      <td>...</td>\n",
       "      <td>0</td>\n",
       "      <td>0</td>\n",
       "      <td>0</td>\n",
       "      <td>0</td>\n",
       "      <td>0</td>\n",
       "      <td>0</td>\n",
       "      <td>0</td>\n",
       "      <td>0</td>\n",
       "      <td>1</td>\n",
       "      <td>0</td>\n",
       "    </tr>\n",
       "    <tr>\n",
       "      <th>4</th>\n",
       "      <td>0.778151</td>\n",
       "      <td>0</td>\n",
       "      <td>0</td>\n",
       "      <td>0</td>\n",
       "      <td>0</td>\n",
       "      <td>0</td>\n",
       "      <td>0</td>\n",
       "      <td>1</td>\n",
       "      <td>1</td>\n",
       "      <td>0</td>\n",
       "      <td>...</td>\n",
       "      <td>0</td>\n",
       "      <td>0</td>\n",
       "      <td>0</td>\n",
       "      <td>0</td>\n",
       "      <td>0</td>\n",
       "      <td>0</td>\n",
       "      <td>0</td>\n",
       "      <td>0</td>\n",
       "      <td>1</td>\n",
       "      <td>0</td>\n",
       "    </tr>\n",
       "  </tbody>\n",
       "</table>\n",
       "<p>5 rows × 421 columns</p>\n",
       "</div>"
      ],
      "text/plain": [
       "   last_login_since_first  email_domain_cuvox.de  email_domain_gmail.com  \\\n",
       "0                0.000000                      0                       0   \n",
       "1                2.136721                      0                       0   \n",
       "2                0.000000                      0                       0   \n",
       "3                0.301030                      0                       0   \n",
       "4                0.778151                      0                       0   \n",
       "\n",
       "   email_domain_gustr.com  email_domain_hotmail.com  \\\n",
       "0                       0                         0   \n",
       "1                       1                         0   \n",
       "2                       1                         0   \n",
       "3                       0                         0   \n",
       "4                       0                         0   \n",
       "\n",
       "   email_domain_jourrapide.com  email_domain_others  email_domain_yahoo.com  \\\n",
       "0                            0                    0                       1   \n",
       "1                            0                    0                       0   \n",
       "2                            0                    0                       0   \n",
       "3                            0                    0                       1   \n",
       "4                            0                    0                       1   \n",
       "\n",
       "   creation_source_GUEST_INVITE  creation_source_ORG_INVITE  ...  org_id_410  \\\n",
       "0                             1                           0  ...           0   \n",
       "1                             0                           1  ...           0   \n",
       "2                             0                           1  ...           0   \n",
       "3                             1                           0  ...           0   \n",
       "4                             1                           0  ...           0   \n",
       "\n",
       "   org_id_411  org_id_412  org_id_413  org_id_414  org_id_415  org_id_others  \\\n",
       "0           0           0           0           0           0              0   \n",
       "1           0           0           0           0           0              0   \n",
       "2           0           0           0           0           0              0   \n",
       "3           0           0           0           0           0              0   \n",
       "4           0           0           0           0           0              0   \n",
       "\n",
       "   invited_by_adopted_user_False  invited_by_adopted_user_True  \\\n",
       "0                              1                             0   \n",
       "1                              1                             0   \n",
       "2                              0                             1   \n",
       "3                              0                             1   \n",
       "4                              0                             1   \n",
       "\n",
       "   invited_by_adopted_user_not invited  \n",
       "0                                    0  \n",
       "1                                    0  \n",
       "2                                    0  \n",
       "3                                    0  \n",
       "4                                    0  \n",
       "\n",
       "[5 rows x 421 columns]"
      ]
     },
     "execution_count": 81,
     "metadata": {},
     "output_type": "execute_result"
    }
   ],
   "source": [
    "X.last_login_since_first = np.log10(X.last_login_since_first + 1)\n",
    "X = pd.get_dummies(X)\n",
    "\n",
    "X.head()"
   ]
  },
  {
   "cell_type": "markdown",
   "metadata": {},
   "source": [
    "Used hot one encoding for all categorical variables and did a log(x+1) transformation on last_login_since_first to prepare data for modeling"
   ]
  },
  {
   "cell_type": "code",
   "execution_count": 82,
   "metadata": {},
   "outputs": [],
   "source": [
    "from sklearn.model_selection import train_test_split\n",
    "\n",
    "X_train, X_test, y_train, y_test = train_test_split(X, y, test_size = 0.2)"
   ]
  },
  {
   "cell_type": "code",
   "execution_count": 85,
   "metadata": {},
   "outputs": [],
   "source": [
    "train_last_login_since_first_mean = X_train.last_login_since_first.mean()\n",
    "train_last_login_since_first_std = X_train.last_login_since_first.std()\n",
    "X_train.last_login_since_first = (X_train.last_login_since_first - train_last_login_since_first_mean) / train_last_login_since_first_std\n",
    "X_test.last_login_since_first = (X_test.last_login_since_first - train_last_login_since_first_mean) / train_last_login_since_first_std"
   ]
  },
  {
   "cell_type": "markdown",
   "metadata": {},
   "source": [
    "Before modeling, needed to standardize the last login data"
   ]
  },
  {
   "cell_type": "markdown",
   "metadata": {},
   "source": [
    "### Modeling\n",
    "\n",
    "I will be using a logistic regression model as the results are going to be 0 non adopted or 1 adopted, followed by a gridsearch to find best parameters for accuracy"
   ]
  },
  {
   "cell_type": "code",
   "execution_count": 86,
   "metadata": {},
   "outputs": [
    {
     "data": {
      "text/plain": [
       "Text(0, 0.5, 'accuracy')"
      ]
     },
     "execution_count": 86,
     "metadata": {},
     "output_type": "execute_result"
    },
    {
     "data": {
      "image/png": "[encoded data removed]",
      "text/plain": [
       "<Figure size 432x288 with 1 Axes>"
      ]
     },
     "metadata": {
      "needs_background": "light"
     },
     "output_type": "display_data"
    }
   ],
   "source": [
    "from sklearn.linear_model import LogisticRegression\n",
    "from sklearn.model_selection import GridSearchCV\n",
    "\n",
    "lr = LogisticRegression(penalty=\"l2\", solver=\"liblinear\")\n",
    "C_grid = {\"C\" : [0.0001, 0.001, 0.01, 0.1, 1, 10, 100, 1000]}\n",
    "classifier = GridSearchCV(lr, C_grid, cv=20)\n",
    "classifier.fit(X_train, y_train)\n",
    "\n",
    "scores = classifier.cv_results_[\"mean_test_score\"]\n",
    "Cs = classifier.cv_results_[\"param_C\"].data\n",
    "plt.plot(Cs, scores)\n",
    "plt.xscale(\"log\")\n",
    "plt.xlabel(\"C\")\n",
    "plt.ylabel(\"accuracy\")"
   ]
  },
  {
   "cell_type": "code",
   "execution_count": 87,
   "metadata": {},
   "outputs": [
    {
     "name": "stdout",
     "output_type": "stream",
     "text": [
      "Accuracy for the test set is 0.9575.\n"
     ]
    }
   ],
   "source": [
    "accuracy = np.mean(classifier.predict(X_test) == y_test)\n",
    "print(\"Accuracy for the test set is {}.\".format(accuracy))"
   ]
  }
 ],
 "metadata": {
  "kernelspec": {
   "display_name": "Python 3",
   "language": "python",
   "name": "python3"
  },
  "language_info": {
   "codemirror_mode": {
    "name": "ipython",
    "version": 3
   },
   "file_extension": ".py",
   "mimetype": "text/x-python",
   "name": "python",
   "nbconvert_exporter": "python",
   "pygments_lexer": "ipython3",
   "version": "3.8.5"
  }
 },
 "nbformat": 4,
 "nbformat_minor": 4
}
